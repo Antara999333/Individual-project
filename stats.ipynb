%run data_analysis.py  # Load the Python file
perform_data_analysis()  # Call the function
